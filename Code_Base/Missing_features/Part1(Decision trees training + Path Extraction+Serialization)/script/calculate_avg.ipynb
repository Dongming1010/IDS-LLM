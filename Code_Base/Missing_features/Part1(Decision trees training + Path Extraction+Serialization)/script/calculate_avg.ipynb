{
 "cells": [
  {
   "cell_type": "code",
   "execution_count": 28,
   "id": "2ea0c083-52f8-4f27-b15b-cfbbd3717d04",
   "metadata": {},
   "outputs": [],
   "source": [
    "import pandas as pd\n",
    "from sklearn.model_selection import train_test_split\n",
    "from sklearn.tree import DecisionTreeClassifier\n",
    "from sklearn.metrics import accuracy_score\n",
    "import matplotlib.pyplot as plt\n",
    "from sklearn.tree import DecisionTreeClassifier, export_text\n",
    "from sklearn.tree import _tree\n",
    "from sklearn.preprocessing import KBinsDiscretizer\n",
    "import numpy as np\n",
    "import re\n",
    "import random\n",
    "import copy\n",
    "import json"
   ]
  },
  {
   "cell_type": "code",
   "execution_count": 29,
   "id": "779092a7-45ef-44a5-90bc-5c8e91fabd7d",
   "metadata": {},
   "outputs": [],
   "source": [
    "df = pd.read_csv('../source/full_dataset.csv')\n",
    "df.rename(columns={'Tot sum': 'Tot_sum'}, inplace=True)\n",
    "df.rename(columns={'Tot size': 'Tot_size'}, inplace=True)\n",
    "df.rename(columns={'Protocol Type': 'Protocol_Type'}, inplace=True)"
   ]
  },
  {
   "cell_type": "code",
   "execution_count": 30,
   "id": "140414f4-b7a7-472d-a7ca-7e1ff17a74aa",
   "metadata": {},
   "outputs": [],
   "source": [
    "numerical_features = [\n",
    "    'flow_duration', 'Header_Length', 'Protocol_Type', 'Duration', 'Rate',\n",
    "    'Srate', 'Drate', 'ack_count','syn_count','fin_count','urg_count',\n",
    "    'rst_count','Tot_sum', 'Min', 'Max', 'AVG', 'Std',\n",
    "    'Tot_size', 'IAT', 'Number', 'Magnitue', 'Radius',\n",
    "    'Covariance', 'Variance', 'Weight'\n",
    "]\n",
    "\n",
    "flag_features = [\n",
    "    'fin_flag_number', 'syn_flag_number', 'rst_flag_number',\n",
    "    'psh_flag_number', 'ack_flag_number', 'ece_flag_number', \n",
    "    'cwr_flag_number',\n",
    "    'HTTP', 'HTTPS', 'DNS', 'Telnet',\n",
    "    'SMTP', 'SSH', 'IRC', 'TCP', 'UDP', 'DHCP', 'ARP',\n",
    "    'ICMP', 'IPv', 'LLC'\n",
    "]"
   ]
  },
  {
   "cell_type": "code",
   "execution_count": 31,
   "id": "c23d6811-ee21-4533-8985-0d35450f72d0",
   "metadata": {},
   "outputs": [],
   "source": [
    "# Calculate the average of each numerical feature\n",
    "numerical_averages = df[numerical_features].mean()\n",
    "\n",
    "# Determine the most frequent value (mode) for each flag feature\n",
    "# `mode()` returns the first mode found, which handles ties by returning the first mode encountered\n",
    "flag_modes = df[flag_features].mode().iloc[0]\n",
    "\n",
    "# Combine the results into a new DataFrame\n",
    "results_df = pd.concat([numerical_averages, flag_modes])"
   ]
  },
  {
   "cell_type": "code",
   "execution_count": 32,
   "id": "3e52b18e-d0b6-4904-86d5-b9bdcdcfb2b0",
   "metadata": {},
   "outputs": [
    {
     "name": "stdout",
     "output_type": "stream",
     "text": [
      "            Feature         Value\n",
      "0     flow_duration  1.783437e+02\n",
      "1     Header_Length  4.348996e+05\n",
      "2     Protocol_Type  1.177068e+01\n",
      "3          Duration  8.690195e+01\n",
      "4              Rate  4.654592e+03\n",
      "5             Srate  4.654592e+03\n",
      "6             Drate  2.075602e-06\n",
      "7         ack_count  5.884875e-02\n",
      "8         syn_count  5.437435e-01\n",
      "9         fin_count  5.455462e-02\n",
      "10        urg_count  6.784797e+01\n",
      "11        rst_count  3.380698e+02\n",
      "12          Tot_sum  3.879447e+03\n",
      "13              Min  1.807394e+02\n",
      "14              Max  7.762868e+02\n",
      "15              AVG  3.687064e+02\n",
      "16              Std  2.014297e+02\n",
      "17         Tot_size  3.701496e+02\n",
      "18              IAT  8.352267e+07\n",
      "19           Number  9.505954e+00\n",
      "20         Magnitue  2.244318e+01\n",
      "21           Radius  2.845895e+02\n",
      "22       Covariance  2.059555e+05\n",
      "23         Variance  5.630919e-01\n",
      "24           Weight  1.417058e+02\n",
      "25  fin_flag_number  0.000000e+00\n",
      "26  syn_flag_number  0.000000e+00\n",
      "27  rst_flag_number  0.000000e+00\n",
      "28  psh_flag_number  0.000000e+00\n",
      "29  ack_flag_number  0.000000e+00\n",
      "30  ece_flag_number  0.000000e+00\n",
      "31  cwr_flag_number  0.000000e+00\n",
      "32             HTTP  0.000000e+00\n",
      "33            HTTPS  0.000000e+00\n",
      "34              DNS  0.000000e+00\n",
      "35           Telnet  0.000000e+00\n",
      "36             SMTP  0.000000e+00\n",
      "37              SSH  0.000000e+00\n",
      "38              IRC  0.000000e+00\n",
      "39              TCP  1.000000e+00\n",
      "40              UDP  0.000000e+00\n",
      "41             DHCP  0.000000e+00\n",
      "42              ARP  0.000000e+00\n",
      "43             ICMP  0.000000e+00\n",
      "44              IPv  1.000000e+00\n",
      "45              LLC  1.000000e+00\n"
     ]
    }
   ],
   "source": [
    "results_df = pd.concat([numerical_averages, flag_modes], axis=0)\n",
    "results_df = results_df.rename('Value').reset_index()\n",
    "results_df.columns = ['Feature', 'Value']\n",
    "\n",
    "# Output or save the results\n",
    "print(results_df)\n",
    "# Optionally, save to CSV\n",
    "results_df.to_csv('../source/processed_feature_averages.csv', index=False)"
   ]
  },
  {
   "cell_type": "code",
   "execution_count": null,
   "id": "7786c676-eedb-4c16-a38b-d1c5d5abf6b9",
   "metadata": {},
   "outputs": [],
   "source": []
  },
  {
   "cell_type": "code",
   "execution_count": null,
   "id": "e3f5483a-e768-4bbb-8c7a-aa9a5ba033fc",
   "metadata": {},
   "outputs": [],
   "source": []
  }
 ],
 "metadata": {
  "kernelspec": {
   "display_name": "fine-tune",
   "language": "python",
   "name": "fine-tune"
  },
  "language_info": {
   "codemirror_mode": {
    "name": "ipython",
    "version": 3
   },
   "file_extension": ".py",
   "mimetype": "text/x-python",
   "name": "python",
   "nbconvert_exporter": "python",
   "pygments_lexer": "ipython3",
   "version": "3.11.7"
  }
 },
 "nbformat": 4,
 "nbformat_minor": 5
}
